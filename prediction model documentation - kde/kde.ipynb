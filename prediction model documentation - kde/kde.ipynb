{
 "cells": [
  {
   "cell_type": "markdown",
   "metadata": {},
   "source": [
    "<h1><center>World Solar Challenge - Squad 3</center></h1>\n",
    "<h1><center>Technical Documentation - Prediction model for The Weather Application</center></h1>\n",
    "\n",
    "\n",
    "# Probability Density Estimation\n",
    "Probability density is the relationship between observations, historical weather data in our case, and their probability. The overall shape of the probability density is referred to as a probability distribution, and the calculation of probabilities for specific outcomes of a random variable, for example temperature at a specific location along the race track, is performed by a probability density function, or PDF for short.\n",
    "\n",
    "Given that the probabilty density function for the historical weather data from different weather stations along the race track is not known, the Weather Application estimates the probability density for different weather features (like solar intensity, temperature, precipitation, etc.) using a process known as probability density estimation. We will specifically use the nonparametric probability density estimation that involves using a technique to fit a model to the arbitrary distribution of the weather data, like kernel density estimation.\n",
    "\n",
    "# Probability Density\n",
    "A random variable X has a probability distribution p(X). The continous random variable in context of the Weather Application can be the different weather features. The relationship between the outcomes of a random variable and its probability is referred to as the probability density, or simply the “density.”\n",
    "\n",
    "The problem is, we do not know the probability distribution for this random variable. We rarely do know the distribution because we don’t have access to all possible outcomes for a random variable. In fact, all we have access to is a sample of observations from the historical weather data. As such, we must select a probability distribution.\n",
    "\n",
    "This problem is referred to as probability density estimation, or simply “density estimation,” as we are using the observations in a random sample to estimate the general density of probabilities beyond just the sample of data we have available."
   ]
  },
  {
   "cell_type": "markdown",
   "metadata": {},
   "source": [
    "# Visual Exploratory Data Analysis\n",
    "### Importing Libraries in Python"
   ]
  },
  {
   "cell_type": "code",
   "execution_count": 5,
   "metadata": {},
   "outputs": [],
   "source": [
    "# for inline plots in jupyter\n",
    "%matplotlib inline\n",
    "# importing libraries\n",
    "import pandas as pd\n",
    "import matplotlib.pyplot as plt\n",
    "import numpy as np\n",
    "from sklearn.neighbors import KernelDensity\n",
    "\n",
    "# use graphs styling similar to R\n",
    "plt.style.use('ggplot')"
   ]
  },
  {
   "cell_type": "markdown",
   "metadata": {},
   "source": [
    "### Histograms for summarizing Density for several weather data features\n",
    "Histogram plots provide a fast and reliable way to visualize the probability density of different weather features like solar intensity, air temperature, precipitation, humidity, etc.\n",
    "\n",
    "The first step is to review the density of observations in the random sample with a simple histogram. From the histogram, we might be able to identify a common and well-understood probability distribution that can be used, such as a normal distribution. If not, we may have to fit a model to estimate the distribution.\n",
    "\n",
    "The snipet below creates a histogram with 5 bins for the temperature data (from the Darwin Airport weather station) recorded on every 9th October at 08:00 hours from 2000 to 2018."
   ]
  },
  {
   "cell_type": "code",
   "execution_count": 6,
   "metadata": {},
   "outputs": [
    {
     "name": "stdout",
     "output_type": "stream",
     "text": [
      "date\n",
      "2000-10-09 08:00:00    28.60\n",
      "2001-10-09 08:00:00    27.90\n",
      "2002-10-09 08:00:00    27.70\n",
      "2003-10-09 08:00:00    26.80\n",
      "2004-10-09 08:00:00    28.25\n",
      "2005-10-09 08:00:00    27.60\n",
      "2006-10-09 08:00:00    27.40\n",
      "2007-10-09 08:00:00    29.15\n",
      "2008-10-09 08:00:00    28.70\n",
      "2009-10-09 08:00:00    28.25\n",
      "2010-10-09 08:00:00    25.90\n",
      "2011-10-09 08:00:00    26.95\n",
      "2012-10-09 08:00:00    28.65\n",
      "2013-10-09 08:00:00    29.25\n",
      "2014-10-09 08:00:00    28.40\n",
      "2015-10-09 08:00:00    27.25\n",
      "2016-10-09 08:00:00    28.05\n",
      "2017-10-09 08:00:00    29.40\n",
      "2018-10-09 08:00:00    27.60\n",
      "Name: air_temp, dtype: float64\n"
     ]
    },
    {
     "data": {
      "image/png": "[encoded data removed]",
      "text/plain": [
       "<Figure size 432x288 with 1 Axes>"
      ]
     },
     "metadata": {},
     "output_type": "display_data"
    }
   ],
   "source": [
    "darwin = pd.read_csv(r'data/014015.csv', parse_dates=True, index_col='date')\n",
    "darwin = darwin['air_temp']\n",
    "\n",
    "# downsample timeseries data into hourly format\n",
    "darwin = darwin.resample('H').mean()\n",
    "\n",
    "# extract all relevant historical observations\n",
    "darwin = darwin[darwin.index.day == 9]\n",
    "darwin = darwin[darwin.index.hour == 8]\n",
    "darwin = darwin.dropna()\n",
    "\n",
    "print(darwin)\n",
    "plt.hist(darwin, bins=5, density=True)\n",
    "plt.xlabel('Precipitation')\n",
    "plt.ylabel('Temperature at 9th October 08:00')\n",
    "\n",
    "plt.show()"
   ]
  },
  {
   "cell_type": "markdown",
   "metadata": {},
   "source": [
    "The snipet below creates a bar chart for the precipitation data (from the Coober Pedy Airport weather station) recorded on every 15th October from 2000 to 2018. From the bar chart, it can be seen that the Precipitation data is highly skewed."
   ]
  },
  {
   "cell_type": "code",
   "execution_count": 7,
   "metadata": {},
   "outputs": [
    {
     "name": "stdout",
     "output_type": "stream",
     "text": [
      "0.0     443\n",
      "19.2      9\n",
      "9.6       1\n",
      "0.6       1\n",
      "3.0       1\n",
      "2.0       1\n",
      "Name: precipitation, dtype: int64\n"
     ]
    },
    {
     "data": {
      "image/png": "[encoded data removed]",
      "text/plain": [
       "<Figure size 432x288 with 1 Axes>"
      ]
     },
     "metadata": {},
     "output_type": "display_data"
    }
   ],
   "source": [
    "cooberpedy = pd.read_csv(r'data/016090.csv', parse_dates=True, index_col='date')\n",
    "cooberpedy = cooberpedy['precipitation']\n",
    "\n",
    "# downsample timeseries data into hourly format\n",
    "cooberpedy = cooberpedy.resample('H').mean()\n",
    "\n",
    "# extract all relevant historical observations\n",
    "cooberpedy = cooberpedy[cooberpedy.index.day == 15]\n",
    "cooberpedy = cooberpedy.dropna()\n",
    "\n",
    "print(cooberpedy.value_counts())\n",
    "plt.bar(['0.0', '19.2', '9.6', '0.6', '3.0', '2.0'], cooberpedy.value_counts().values)\n",
    "plt.xlabel('Precipitation')\n",
    "plt.ylabel('Frequency')\n",
    "\n",
    "plt.show()"
   ]
  },
  {
   "cell_type": "markdown",
   "metadata": {},
   "source": [
    "### Conclusion\n",
    "Reviewing the above graphs/charts for weather features - Temperature, Precipitation, it is clear to identify that the density does not look like a common probability distribution, but infact looks like complex distributions. Also, not every weather feature follow the same family of distributions, for example, it can be clearly seen from the charts above that the distributions of temperature and precipitation are completely different from each other."
   ]
  },
  {
   "cell_type": "markdown",
   "metadata": {},
   "source": [
    "# Kernel Density Estimation\n",
    "In our cases, weather feature data do not resemble a common probability distribution or cannot be easily made to fit the distribution. In this case, parametric density estimation is not feasible and alternative methods can be used that do not use a common distribution. Instead, an algorithm is used to approximate the probability distribution of the data without a pre-defined distribution, referred to as a nonparametric method.\n",
    "\n",
    "A nonparametric method might estimate the density using all observations in a random sample, in effect making all observations in the sample “parameters”. The nonparametric method that we are interested in is the kernel density estimation.\n",
    "\n",
    "A kernel is a mathematical function that returns a probability for a given value of a random variable. The kernel effectively smooths or interpolates the probabilities across the range of outcomes for a random variable such that the sum of probabilities equals one, a requirement of well-behaved probabilities.\n",
    "\n",
    "![KDE](images/1.PNG)"
   ]
  },
  {
   "cell_type": "markdown",
   "metadata": {},
   "source": [
    "# The underlying Prediction Model of The Weather Application\n",
    "In this section we present the methodology researched for the prediction of the weather features in the month of October 2021.\n",
    "\n",
    "The method we employed are nonparametric kernel density based estimates for probabilistic weather forecasting. The prediction model implements a simple kernel density estimator that produces an estimate of the probability distribution function f(X) of the weather feature X (at a particular future time period) using past hourly observations of the weather feature $X_{i}$ where assuming *i* is beginning of historical weather feature data: $1^{st}$ October 2000)\n",
    "\n",
    "To forecast day *D* of the month October, *D* = 1,2,...,31, (at hour *h*, *h* = 1,2,...,24 which is optional), the weather application implements a KDE on all historical observations of the same day *D* and hour *h*. This methodology only considers observations belonging to the same hourly period of the same day of the month of October.\n",
    "\n",
    "While there are several versions of kernel density estimation implemented in Python (notably in the SciPy and StatsModels packages), we opted to use Scikit-Learn's version because of its efficiency and flexibility. It is implemented in the sklearn.neighbors.KernelDensity estimator, which handles KDE in multiple dimensions with one of six kernels and one of a couple dozen distance metrics."
   ]
  },
  {
   "cell_type": "code",
   "execution_count": 8,
   "metadata": {},
   "outputs": [],
   "source": [
    "# KDE parameters - Kernel function and Bandwidth\n",
    "def kde(kernel, bandwidth):\n",
    "    return KernelDensity(kernel=kernel, bandwidth=bandwidth)"
   ]
  },
  {
   "cell_type": "code",
   "execution_count": 9,
   "metadata": {},
   "outputs": [],
   "source": [
    "def fit(filename, column, kde, day_of_month, hour_of_day = -1, resample=True):\n",
    "    data = pd.read_csv(filename, parse_dates=True, index_col='date')\n",
    "    data = data[column]\n",
    "\n",
    "    # downsample timeseries data into hourly format\n",
    "    data = data.resample('H').mean()\n",
    "\n",
    "    # extract all relevant historical observations\n",
    "    data = data[data.index.day == day_of_month]\n",
    "    if hour_of_day != -1:\n",
    "        data = data[data.index.hour == hour_of_day]\n",
    "    data = data.dropna()\n",
    "    \n",
    "    data_max = data.max()\n",
    "    data_min = data.min()\n",
    "\n",
    "    return kde.fit(data.to_numpy().reshape(-1, 1)), data_max, data_min, data\n",
    "\n",
    "    "
   ]
  },
  {
   "cell_type": "code",
   "execution_count": 10,
   "metadata": {},
   "outputs": [],
   "source": [
    "def sample(model, data_max, data_min, number_of_samples=350):\n",
    "        x_plot = np.linspace(data_min - 1,\n",
    "                             data_max + 1, number_of_samples)\n",
    "        log_dens = model.score_samples(x_plot.reshape(-1, 1))\n",
    "        y_plot = np.exp(log_dens)\n",
    "\n",
    "        return (x_plot, y_plot)"
   ]
  },
  {
   "cell_type": "markdown",
   "metadata": {},
   "source": [
    "The code snipet below implements the kernel density estimator (using the Epanechnikov kernel fuction and bandwidth of 0.7) based on the historical air temperature data recorded by the Darwin Airport on $9^{th}$ October from 2000 to 2018 every year."
   ]
  },
  {
   "cell_type": "code",
   "execution_count": 11,
   "metadata": {},
   "outputs": [
    {
     "data": {
      "image/png": "[encoded data removed]",
      "text/plain": [
       "<Figure size 432x288 with 1 Axes>"
      ]
     },
     "metadata": {},
     "output_type": "display_data"
    }
   ],
   "source": [
    "# main.py\n",
    "\n",
    "_kde = kde('epanechnikov', 0.7)\n",
    "(model, max, min, data) = fit(r'data/014015.csv', 'air_temp', _kde, 9)\n",
    "(kde_xdata, kde_ydata) = sample(model, max, min, 200)\n",
    "\n",
    "fig, axes = plt.subplots(1,1)\n",
    "\n",
    "# kde line plot\n",
    "axes.plot(kde_xdata, kde_ydata, color='b', alpha=0.99, label='Air temp KDE')\n",
    "\n",
    "# histogram for air temp from historical weather feature data\n",
    "nbins = int(np.sqrt(data.shape[0])) + 1\n",
    "axes.hist(data, bins=nbins, density=True, alpha=0.7, label='Air temp histogram')\n",
    "\n",
    "# labelling\n",
    "plt.xlabel('Air Temperature')\n",
    "plt.ylabel('Probability Density')\n",
    "plt.legend()\n",
    "\n",
    "plt.show()"
   ]
  },
  {
   "cell_type": "markdown",
   "metadata": {},
   "source": [
    "### Sprint 2 Plan\n",
    "One of the main focuses in the next Sprint will be optimising the KDE to better fit the data i. e. automatically choosing the optimal KDE parametrs - Kernel function and Bandwidth.\n",
    "The kernel bandwidth, which is a free parameter, can be determined using Scikit-Learn's standard cross validation tools as we are yet to research.\n",
    "\n",
    "### References\n",
    "- https://jakevdp.github.io/PythonDataScienceHandbook/05.13-kernel-density-estimation.html\n",
    "- https://arxiv.org/pdf/1610.05183.pdf\n",
    "- https://machinelearningmastery.com/probability-density-estimation/"
   ]
  }
 ],
 "metadata": {
  "kernelspec": {
   "display_name": "Python 3",
   "language": "python",
   "name": "python3"
  },
  "language_info": {
   "codemirror_mode": {
    "name": "ipython",
    "version": 3
   },
   "file_extension": ".py",
   "mimetype": "text/x-python",
   "name": "python",
   "nbconvert_exporter": "python",
   "pygments_lexer": "ipython3",
   "version": "3.7.4"
  }
 },
 "nbformat": 4,
 "nbformat_minor": 2
}
